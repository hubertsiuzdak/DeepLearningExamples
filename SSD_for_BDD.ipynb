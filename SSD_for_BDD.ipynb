{
  "nbformat": 4,
  "nbformat_minor": 0,
  "metadata": {
    "colab": {
      "name": "SSD for BDD.ipynb",
      "provenance": [],
      "private_outputs": true,
      "include_colab_link": true
    },
    "kernelspec": {
      "name": "python3",
      "display_name": "Python 3"
    },
    "accelerator": "GPU"
  },
  "cells": [
    {
      "cell_type": "markdown",
      "metadata": {
        "id": "view-in-github",
        "colab_type": "text"
      },
      "source": [
        "<a href=\"https://colab.research.google.com/github/hubertsiuzdak/DeepLearningExamples/blob/master/SSD_for_BDD.ipynb\" target=\"_parent\"><img src=\"https://colab.research.google.com/assets/colab-badge.svg\" alt=\"Open In Colab\"/></a>"
      ]
    },
    {
      "cell_type": "markdown",
      "metadata": {
        "id": "fm3sAmB_JlCS",
        "colab_type": "text"
      },
      "source": [
        "## Check GPU info"
      ]
    },
    {
      "cell_type": "code",
      "metadata": {
        "id": "F5OCC39ckcry",
        "colab_type": "code",
        "colab": {}
      },
      "source": [
        "!nvidia-smi"
      ],
      "execution_count": 0,
      "outputs": []
    },
    {
      "cell_type": "markdown",
      "metadata": {
        "id": "xf0io1ohEmUn",
        "colab_type": "text"
      },
      "source": [
        "## Get the code and build the SSD"
      ]
    },
    {
      "cell_type": "code",
      "metadata": {
        "id": "PaUw67JJlRGk",
        "colab_type": "code",
        "colab": {}
      },
      "source": [
        "!git clone https://github.com/hubertsiuzdak/DeepLearningExamples\n",
        "%cd DeepLearningExamples/PyTorch/Detection/SSD\n",
        "!pip install -r requirements.txt\n",
        "!pip install ."
      ],
      "execution_count": 0,
      "outputs": []
    },
    {
      "cell_type": "markdown",
      "metadata": {
        "id": "cOeYXszFGSq5",
        "colab_type": "text"
      },
      "source": [
        "## Mount Google Drive in order to access the data"
      ]
    },
    {
      "cell_type": "code",
      "metadata": {
        "id": "Bxzl2bNZGREF",
        "colab_type": "code",
        "colab": {}
      },
      "source": [
        "from google.colab import drive\n",
        "drive.mount('/content/drive')"
      ],
      "execution_count": 0,
      "outputs": []
    },
    {
      "cell_type": "markdown",
      "metadata": {
        "id": "eRamFzzQFien",
        "colab_type": "text"
      },
      "source": [
        "### Unzip BDD100K dataset on the Google drive and transofrm the annotations to match the COCO format\n",
        "To get the data visit [Berkeley DeepDrive](https://bdd-data.berkeley.edu/)\n",
        "\n",
        "\n",
        "```\n",
        "It needs to be done only once. Skip if you already have the data unzipped and annotated properly.\n",
        "```\n",
        "\n"
      ]
    },
    {
      "cell_type": "code",
      "metadata": {
        "id": "79mXh1_CZpPC",
        "colab_type": "code",
        "colab": {}
      },
      "source": [
        "# !unzip -q /content/drive/My\\ Drive/bdd100k.zip -d /content/drive/My\\ Drive/\n",
        "# %cd /content/drive/My\\ Drive/bdd100k\n",
        "# !python /content/DeepLearningExamples/PyTorch/Detection/SSD/bdd2coco.py"
      ],
      "execution_count": 0,
      "outputs": []
    },
    {
      "cell_type": "markdown",
      "metadata": {
        "id": "JeifwkR7ELyn",
        "colab_type": "text"
      },
      "source": [
        "## Install [Nvidia Apex](https://github.com/NVIDIA/apex)"
      ]
    },
    {
      "cell_type": "code",
      "metadata": {
        "id": "CwiPinfWlaD4",
        "colab_type": "code",
        "colab": {}
      },
      "source": [
        "%%writefile /content/DeepLearningExamples/PyTorch/Detection/SSD/setup.sh\n",
        "export CUDA_HOME=/usr/local/cuda-10.1\n",
        "git clone https://github.com/NVIDIA/apex\n",
        "pip install -v --no-cache-dir --global-option=\"--cpp_ext\" --global-option=\"--cuda_ext\" ./apex"
      ],
      "execution_count": 0,
      "outputs": []
    },
    {
      "cell_type": "code",
      "metadata": {
        "id": "VHKdN0X8mlLF",
        "colab_type": "code",
        "colab": {}
      },
      "source": [
        "%cd /content/DeepLearningExamples/PyTorch/Detection/SSD\n",
        "!sh setup.sh"
      ],
      "execution_count": 0,
      "outputs": []
    },
    {
      "cell_type": "markdown",
      "metadata": {
        "id": "FhBsq4dJEUa0",
        "colab_type": "text"
      },
      "source": [
        "## Install [Nvidia Dali](https://github.com/NVIDIA/DALI)"
      ]
    },
    {
      "cell_type": "code",
      "metadata": {
        "id": "Di5P4rnBpvul",
        "colab_type": "code",
        "colab": {}
      },
      "source": [
        "!pip install --extra-index-url https://developer.download.nvidia.com/compute/redist/cuda/10.0 nvidia-dali"
      ],
      "execution_count": 0,
      "outputs": []
    },
    {
      "cell_type": "markdown",
      "metadata": {
        "id": "1iqTSpvQEy8_",
        "colab_type": "text"
      },
      "source": [
        "## Start the training"
      ]
    },
    {
      "cell_type": "code",
      "metadata": {
        "id": "wy3U06Itp4Ta",
        "colab_type": "code",
        "colab": {}
      },
      "source": [
        "%cd /content/DeepLearningExamples/PyTorch/Detection/SSD\n",
        "!python main.py --backbone resnet50 --warmup 300 --bs 64 --amp --data '/content/drive/My Drive/bdd100k/' --checkpoint '/content/drive/My Drive/bdd100k/checkpoints/SSD300_BDD.pt'  --save-path '/content/drive/My Drive/bdd100k/checkpoints'"
      ],
      "execution_count": 0,
      "outputs": []
    }
  ]
}